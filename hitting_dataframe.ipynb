{
 "cells": [
  {
   "cell_type": "code",
   "execution_count": 1,
   "metadata": {},
   "outputs": [
    {
     "name": "stdout",
     "output_type": "stream",
     "text": [
      "                            date player_name practice_type  plane_score  \\\n",
      "0  January 15, 2020 / 4:38:58 PM        Gabe     85 Sim HA           49   \n",
      "1  January 15, 2020 / 4:38:43 PM        Gabe     85 Sim HA           52   \n",
      "2  January 15, 2020 / 4:38:22 PM        Gabe     85 Sim HA           46   \n",
      "3  January 15, 2020 / 4:38:13 PM        Gabe     85 Sim HA           48   \n",
      "4  January 15, 2020 / 4:38:05 PM        Gabe     85 Sim HA           52   \n",
      "5  January 15, 2020 / 4:37:57 PM        Gabe     85 Sim HA           45   \n",
      "6  January 15, 2020 / 4:37:51 PM        Gabe     85 Sim HA           58   \n",
      "7  January 15, 2020 / 4:37:44 PM        Gabe     85 Sim HA           47   \n",
      "8  January 15, 2020 / 4:36:10 PM        Gabe     85 Sim HA           54   \n",
      "9  January 15, 2020 / 4:35:55 PM        Gabe     85 Sim HA           47   \n",
      "\n",
      "   connection_score  rotation_score  bat_speed  rotational_acceleration  \\\n",
      "0                51              42       71.0                      9.7   \n",
      "1                35              36       70.2                      7.2   \n",
      "2                57              40       71.8                      8.9   \n",
      "3                41              43       71.0                      9.9   \n",
      "4                41              37       74.9                      7.7   \n",
      "5                40              38       74.2                      7.9   \n",
      "6                34              40       70.3                      8.7   \n",
      "7                41              36       67.9                      7.2   \n",
      "8                34              40       71.5                      8.6   \n",
      "9                42              39       73.0                      8.4   \n",
      "\n",
      "   on_plane_efficiency  attack_angle  early_connection  connection_at_impact  \\\n",
      "0                   66             5                82                    82   \n",
      "1                   68            11                77                    70   \n",
      "2                   63             9                85                    84   \n",
      "3                   65             9                77                    77   \n",
      "4                   69             7                79                    76   \n",
      "5                   62            11                78                    75   \n",
      "6                   74             5                75                    71   \n",
      "7                   64            11                81                    74   \n",
      "8                   71             2                72                    73   \n",
      "9                   64             2                78                    78   \n",
      "\n",
      "   vertical_bat_angle  power  exit_velocity  launch_angle exit_direction  \\\n",
      "0                 -31   4.62           90.1           4.3            0.1   \n",
      "1                 -24   4.33            0.0           0.0              0   \n",
      "2                 -27   4.53           89.8          -8.9          -21.7   \n",
      "3                 -30   4.42           91.3          15.4           -2.2   \n",
      "4                 -30   5.06           93.8           0.4            2.4   \n",
      "5                 -27   4.77           94.9           3.5          -31.2   \n",
      "6                 -27   4.46           70.9          40.5           61.5   \n",
      "7                 -28   4.00           94.8          10.7           -5.9   \n",
      "8                 -32   4.61           74.9          26.7           38.5   \n",
      "9                 -35   4.87            0.0           0.0              0   \n",
      "\n",
      "   distance strike_zone_x  strike_zone_y  \n",
      "0        99          -1.5           33.5  \n",
      "1         0             0            0.0  \n",
      "2        16           3.2           34.3  \n",
      "3       315          -4.5           33.1  \n",
      "4        54          -4.7           28.8  \n",
      "5        83           0.3           30.8  \n",
      "6       230         -19.4           44.7  \n",
      "7       215          -2.3           36.1  \n",
      "8       257         -12.4           35.1  \n",
      "9         0             0            0.0  \n"
     ]
    }
   ],
   "source": [
    "import pandas as pd\n",
    "from matplotlib import pyplot as plt\n",
    "import numpy as np\n",
    "df = pd.read_excel('cf_testing.xls')\n",
    "df.rename(columns={\n",
    "    'Date': 'date',\n",
    "    'Drill': 'practice_type',\n",
    "    'Plane Score': 'plane_score',\n",
    "    'Connection Score': 'connection_score',\n",
    "    'Rotation Score': 'rotation_score',\n",
    "    'Bat Speed (mph)': 'bat_speed',\n",
    "    'Rotational Acceleration (g)': 'rotational_acceleration',\n",
    "    'On Plane Efficiency (%)': 'on_plane_efficiency',\n",
    "    'Attack Angle (deg)': 'attack_angle',\n",
    "    'Early Connection (deg)': 'early_connection',\n",
    "    'Connection at Impact (deg)': 'connection_at_impact',\n",
    "    'Vertical Bat Angle (deg)': 'vertical_bat_angle',\n",
    "    'Power (kW)': 'power',\n",
    "    'Exit Velocity': 'exit_velocity',\n",
    "    'Launch Angle': 'launch_angle',\n",
    "    'Exit Direction': 'exit_direction',\n",
    "    'Distance': 'distance',\n",
    "    'Strike Zone X': 'strike_zone_x',\n",
    "    'Strike Zone Y': 'strike_zone_y'},\n",
    "          inplace=True)\n",
    "print(df.head(10))"
   ]
  },
  {
   "cell_type": "code",
   "execution_count": 2,
   "metadata": {},
   "outputs": [],
   "source": [
    "gabe = df[df.player_name == 'Gabe']\n",
    "chamo = df[df.player_name == 'Chamo']\n",
    "kevo = df[df.player_name == 'Kevo']\n",
    "miggy = df[df.player_name == 'Miggy']\n",
    "cedar = df[df.player_name == 'Cedar']\n",
    "abshire = df[df.player_name == 'Abshire']\n",
    "miles = df[df.player_name == 'Miles']\n",
    "jackson = df[df.player_name == 'Jackson']\n",
    "tabor = df[df.player_name == 'Tabor']\n",
    "colton = df[df.player_name == 'Colton']\n",
    "carlos = df[df.player_name == 'Carlos']\n",
    "tbake = df[df.player_name == 'TBake']\n",
    "jc = df[df.player_name == 'JC']\n",
    "nick = df[df.player_name == 'Nick']"
   ]
  },
  {
   "cell_type": "code",
   "execution_count": null,
   "metadata": {},
   "outputs": [],
   "source": []
  },
  {
   "cell_type": "code",
   "execution_count": 3,
   "metadata": {},
   "outputs": [],
   "source": [
    "gabe_plane_score = df.loc[df.player_name == 'Gabe', 'plane_score']\n",
    "chamo_plane_score = df.loc[df.player_name == 'Chamo', 'plane_score']\n",
    "kevo_plane_score = df.loc[df.player_name == 'Kevo', 'plane_score']\n",
    "miggy_plane_score = df.loc[df.player_name == 'Miggy', 'plane_score']\n",
    "cedar_plane_score = df.loc[df.player_name == 'Cedar', 'plane_score']\n",
    "abshire_plane_score = df.loc[df.player_name == 'Abshire', 'plane_score']\n",
    "miles_plane_score = df.loc[df.player_name == 'Miles', 'plane_score']\n",
    "jackson_plane_score = df.loc[df.player_name == 'Jackson', 'plane_score']\n",
    "tabor_plane_score = df.loc[df.player_name == 'Tabor', 'plane_score']\n",
    "colton_plane_score = df.loc[df.player_name == 'Colton', 'plane_score']\n",
    "carlos_plane_score = df.loc[df.player_name == 'Carlos', 'plane_score']\n",
    "tbake_plane_score = df.loc[df.player_name == 'TBake', 'plane_score']\n",
    "jc_plane_score = df.loc[df.player_name == 'JC', 'plane_score']\n",
    "nick_plane_score = df.loc[df.player_name == 'Nick', 'plane_score']"
   ]
  },
  {
   "cell_type": "code",
   "execution_count": 4,
   "metadata": {},
   "outputs": [],
   "source": [
    "gabe_connection_score = df.loc[df.player_name == 'Gabe', 'connection_score']\n",
    "chamo_connection_score = df.loc[df.player_name == 'Chamo', 'connection_score']\n",
    "kevo_connection_score = df.loc[df.player_name == 'Kevo', 'connection_score']\n",
    "miggy_connection_score = df.loc[df.player_name == 'Miggy', 'connection_score']\n",
    "cedar_connection_score = df.loc[df.player_name == 'Cedar', 'connection_score']\n",
    "abshire_connection_score = df.loc[df.player_name == 'Abshire', 'connection_score']\n",
    "miles_connection_score = df.loc[df.player_name == 'Miles', 'connection_score']\n",
    "jackson_connection_score = df.loc[df.player_name == 'Jackson', 'connection_score']\n",
    "tabor_connection_score = df.loc[df.player_name == 'Tabor', 'connection_score']\n",
    "colton_connection_score = df.loc[df.player_name == 'Colton', 'connection_score']\n",
    "carlos_connection_score = df.loc[df.player_name == 'carlos', 'connection_score']\n",
    "tbake_connection_score = df.loc[df.player_name == 'TBake', 'connection_score']\n",
    "jc_connection_score = df.loc[df.player_name == 'JC', 'connection_score']\n",
    "nick_connection_score = df.loc[df.player_name == 'Nick', 'connection_score']"
   ]
  },
  {
   "cell_type": "code",
   "execution_count": 5,
   "metadata": {},
   "outputs": [],
   "source": [
    "gabe_rotation_score = df.loc[df.player_name == 'Gabe', 'rotation_score']\n",
    "chamo_rotation_score = df.loc[df.player_name == 'Chamo', 'rotation_score']\n",
    "kevo_rotation_score = df.loc[df.player_name == 'Kevo', 'rotation_score']\n",
    "miggy_rotation_score = df.loc[df.player_name == 'Miggy', 'rotation_score']\n",
    "cedar_rotation_score = df.loc[df.player_name == 'Cedar', 'rotation_score']\n",
    "abshire_rotation_score = df.loc[df.player_name == 'Abshire', 'rotation_score']\n",
    "miles_rotation_score = df.loc[df.player_name == 'Miles', 'rotation_score']\n",
    "jackson_rotation_score = df.loc[df.player_name == 'Jackson', 'rotation_score']\n",
    "tabor_rotation_score = df.loc[df.player_name == 'Tabor', 'rotation_score']\n",
    "colton_rotation_score = df.loc[df.player_name == 'Colton', 'rotation_score']\n",
    "carlos_rotation_score = df.loc[df.player_name == 'Carlos', 'rotation_score']\n",
    "tbake_rotation_score = df.loc[df.player_name == 'TBake', 'rotation_score']\n",
    "jc_rotation_score = df.loc[df.player_name == 'JC', 'rotation_score']\n",
    "nick_rotation_score = df.loc[df.player_name == 'Nick', 'rotation_score']\n"
   ]
  },
  {
   "cell_type": "code",
   "execution_count": 6,
   "metadata": {},
   "outputs": [],
   "source": [
    "gabe_bat_speed = df.loc[df.player_name == 'Gabe', 'bat_speed']\n",
    "chamo_bat_speed = df.loc[df.player_name == 'Chamo', 'bat_speed']\n",
    "kevo_bat_speed = df.loc[df.player_name == 'Kevo', 'bat_speed']\n",
    "miggy_bat_speed = df.loc[df.player_name == 'Miggy', 'bat_speed']\n",
    "cedar_bat_speed = df.loc[df.player_name == 'Cedar', 'bat_speed']\n",
    "abshire_bat_speed = df.loc[df.player_name == 'Abshire', 'bat_speed']\n",
    "miles_bat_speed = df.loc[df.player_name == 'Miles', 'bat_speed']\n",
    "jackson_bat_speed = df.loc[df.player_name == 'Jackson', 'bat_speed']\n",
    "tabor_bat_speed = df.loc[df.player_name == 'Tabor', 'bat_speed']\n",
    "colton_bat_speed = df.loc[df.player_name == 'Colton', 'bat_speed']\n",
    "carlos_bat_speed = df.loc[df.player_name == 'Carlos', 'bat_speed']\n",
    "tbake_bat_speed = df.loc[df.player_name == 'TBake', 'bat_speed']\n",
    "jc_bat_speed = df.loc[df.player_name == 'JC', 'bat_speed']\n",
    "nick_bat_speed = df.loc[df.player_name == 'Nick', 'bat_speed']"
   ]
  },
  {
   "cell_type": "code",
   "execution_count": 7,
   "metadata": {},
   "outputs": [],
   "source": [
    "gabe_rotational_acceleration = df.loc[df.player_name == 'Gabe', 'rotational_acceleration']\n",
    "chamo_rotational_acceleration = df.loc[df.player_name == 'Chamo', 'rotational_acceleration']\n",
    "kevo_rotational_acceleration = df.loc[df.player_name == 'Kevo', 'rotational_acceleration']\n",
    "miggy_rotational_acceleration = df.loc[df.player_name == 'Miggy', 'rotational_acceleration']\n",
    "cedar_rotational_acceleration = df.loc[df.player_name == 'Cedar', 'rotational_acceleration']\n",
    "abshire_rotational_acceleration = df.loc[df.player_name == 'Abshire', 'rotational_acceleration']\n",
    "miles_rotational_acceleration = df.loc[df.player_name == 'Miles', 'rotational_acceleration']\n",
    "jackson_rotational_acceleration = df.loc[df.player_name == 'Jackson', 'rotational_acceleration']\n",
    "tabor_rotational_acceleration = df.loc[df.player_name == 'Tabor', 'rotational_acceleration']\n",
    "colton_rotational_acceleration = df.loc[df.player_name == 'Colton', 'rotational_acceleration']\n",
    "carlos_rotational_acceleration = df.loc[df.player_name == 'Carlos', 'rotational_acceleration']\n",
    "tbake_rotational_acceleration = df.loc[df.player_name == 'TBake', 'rotational_acceleration']\n",
    "jc_rotational_acceleration = df.loc[df.player_name == 'JC', 'rotational_acceleration']\n",
    "nick_rotational_acceleration = df.loc[df.player_name == 'Nick', 'rotational_acceleration']"
   ]
  },
  {
   "cell_type": "code",
   "execution_count": 8,
   "metadata": {},
   "outputs": [],
   "source": [
    "gabe_on_plane_efficiency = df.loc[df.player_name == 'Gabe', 'on_plane_efficiency']\n",
    "chamo_on_plane_efficiency = df.loc[df.player_name == 'Chamo', 'on_plane_efficiency']\n",
    "kevo_on_plane_efficiency = df.loc[df.player_name == 'Kevo', 'on_plane_efficiency']\n",
    "miggy_on_plane_efficiency = df.loc[df.player_name == 'Miggy', 'on_plane_efficiency']\n",
    "cedar_on_plane_efficiency = df.loc[df.player_name == 'Cedar', 'on_plane_efficiency']\n",
    "abshire_on_plane_efficiency = df.loc[df.player_name == 'Abshire', 'on_plane_efficiency']\n",
    "miles_on_plane_efficiency = df.loc[df.player_name == 'Miles', 'on_plane_efficiency']\n",
    "jackson_on_plane_efficiency = df.loc[df.player_name == 'Jackson', 'on_plane_efficiency']\n",
    "tabor_on_plane_efficiency = df.loc[df.player_name == 'Tabor', 'on_plane_efficiency']\n",
    "colton_on_plane_efficiency = df.loc[df.player_name == 'Colton', 'on_plane_efficiency']\n",
    "carlos_on_plane_efficiency = df.loc[df.player_name == 'Carlos', 'on_plane_efficiency']\n",
    "tbake_on_plane_efficiency = df.loc[df.player_name == 'TBake', 'on_plane_efficiency']\n",
    "jc_on_plane_efficiency = df.loc[df.player_name == 'Jc', 'on_plane_efficiency']\n",
    "nick_on_plane_efficiency = df.loc[df.player_name == 'Nick', 'on_plane_efficiency']"
   ]
  },
  {
   "cell_type": "code",
   "execution_count": 9,
   "metadata": {},
   "outputs": [],
   "source": [
    "gabe_attack_angle = df.loc[df.player_name == 'Gabe', 'attack_angle']\n",
    "chamo_attack_angle = df.loc[df.player_name == 'Chamo', 'attack_angle']\n",
    "kevo_attack_angle = df.loc[df.player_name == 'Kevo', 'attack_angle']\n",
    "miggy_attack_angle = df.loc[df.player_name == 'Miggy', 'attack_angle']\n",
    "cedar_attack_angle = df.loc[df.player_name == 'Cedar', 'attack_angle']\n",
    "abshire_attack_angle = df.loc[df.player_name == 'Abshire', 'attack_angle']\n",
    "miles_attack_angle = df.loc[df.player_name == 'Miles', 'attack_angle']\n",
    "jackson_attack_angle = df.loc[df.player_name == 'Jackson', 'attack_angle']\n",
    "tabor_attack_angle = df.loc[df.player_name == 'Tabor', 'attack_angle']\n",
    "colton_attack_angle = df.loc[df.player_name == 'Colton', 'attack_angle']\n",
    "carlos_attack_angle = df.loc[df.player_name == 'Carlos', 'attack_angle']\n",
    "tbake_attack_angle = df.loc[df.player_name == 'TBake', 'attack_angle']\n",
    "jc_attack_angle = df.loc[df.player_name == 'Jc', 'attack_angle']\n",
    "nick_attack_angle = df.loc[df.player_name == 'Nick', 'attack_angle']"
   ]
  },
  {
   "cell_type": "code",
   "execution_count": 10,
   "metadata": {},
   "outputs": [],
   "source": [
    "gabe_early_connection = df.loc[df.player_name == 'Gabe', 'early_connection']\n",
    "chamo_early_connection = df.loc[df.player_name == 'Chamo', 'early_connection']\n",
    "kevo_early_connection = df.loc[df.player_name == 'Kevo', 'early_connection']\n",
    "miggy_early_connection = df.loc[df.player_name == 'Miggy', 'early_connection']\n",
    "cedar_early_connection = df.loc[df.player_name == 'Cedar', 'early_connection']\n",
    "abshire_early_connection = df.loc[df.player_name == 'Abshire', 'early_connection']\n",
    "miles_early_connection = df.loc[df.player_name == 'Miles', 'early_connection']\n",
    "jackson_early_connection = df.loc[df.player_name == 'Jackson', 'early_connection']\n",
    "tabor_early_connection = df.loc[df.player_name == 'Tabor', 'early_connection']\n",
    "colton_early_connection = df.loc[df.player_name == 'Colton', 'early_connection']\n",
    "carlos_early_connection = df.loc[df.player_name == 'Carlos', 'early_connection']\n",
    "tbake_early_connection = df.loc[df.player_name == 'TBake', 'early_connection']\n",
    "jc_early_connection = df.loc[df.player_name == 'JC', 'early_connection']\n",
    "nick_early_connection = df.loc[df.player_name == 'Nick', 'early_connection']"
   ]
  },
  {
   "cell_type": "code",
   "execution_count": 11,
   "metadata": {},
   "outputs": [],
   "source": [
    "gabe_connection_at_impact = df.loc[df.player_name == 'Gabe', 'connection_at_impact']\n",
    "chamo_connection_at_impact = df.loc[df.player_name == 'Chamo', 'connection_at_impact']\n",
    "kevo_connection_at_impact = df.loc[df.player_name == 'Kevo', 'connection_at_impact']\n",
    "miggy_connection_at_impact = df.loc[df.player_name == 'Miggy', 'connection_at_impact']\n",
    "cedar_connection_at_impact = df.loc[df.player_name == 'Cedar', 'connection_at_impact']\n",
    "Abshire_connection_at_impact = df.loc[df.player_name == 'Abshire', 'connection_at_impact']\n",
    "miles_connection_at_impact = df.loc[df.player_name == 'Miles', 'connection_at_impact']\n",
    "jackson_connection_at_impact = df.loc[df.player_name == 'Jackson', 'connection_at_impact']\n",
    "tabor_connection_at_impact = df.loc[df.player_name == 'Tabor', 'connection_at_impact']\n",
    "colton_connection_at_impact = df.loc[df.player_name == 'Colton', 'connection_at_impact']\n",
    "carlos_connection_at_impact = df.loc[df.player_name == 'Carlos', 'connection_at_impact']\n",
    "tbake_connection_at_impact = df.loc[df.player_name == 'TBake', 'connection_at_impact']\n",
    "jc_connection_at_impact = df.loc[df.player_name == 'JC', 'connection_at_impact']\n",
    "nick_connection_at_impact = df.loc[df.player_name == 'Nick', 'connection_at_impact']"
   ]
  },
  {
   "cell_type": "code",
   "execution_count": 12,
   "metadata": {},
   "outputs": [],
   "source": [
    "gabe_vertical_bat_angle = df.loc[df.player_name == 'Gabe', 'vertical_bat_angle']\n",
    "chamo_vertical_bat_angle = df.loc[df.player_name == 'Chamo', 'vertical_bat_angle']\n",
    "kevo_vertical_bat_angle = df.loc[df.player_name == 'Kevo', 'vertical_bat_angle']\n",
    "miggy_vertical_bat_angle = df.loc[df.player_name == 'Miggy', 'vertical_bat_angle']\n",
    "cedar_vertical_bat_angle = df.loc[df.player_name == 'Cedar', 'vertical_bat_angle']\n",
    "abshire_vertical_bat_angle = df.loc[df.player_name == 'Abshire', 'vertical_bat_angle']\n",
    "miles_vertical_bat_angle = df.loc[df.player_name == 'Miles', 'vertical_bat_angle']\n",
    "jackson_vertical_bat_angle = df.loc[df.player_name == 'Jackson', 'vertical_bat_angle']\n",
    "tabor_vertical_bat_angle = df.loc[df.player_name == 'Tabor', 'vertical_bat_angle']\n",
    "colton_vertical_bat_angle = df.loc[df.player_name == 'Colton', 'vertical_bat_angle']\n",
    "carlos_vertical_bat_angle = df.loc[df.player_name == 'Carlos', 'vertical_bat_angle']\n",
    "tbake_vertical_bat_angle = df.loc[df.player_name == 'TBake', 'vertical_bat_angle']\n",
    "jc_vertical_bat_angle = df.loc[df.player_name == 'JC', 'vertical_bat_angle']\n",
    "nick_vertical_bat_angle = df.loc[df.player_name == 'Nick', 'vertical_bat_angle']"
   ]
  },
  {
   "cell_type": "code",
   "execution_count": 13,
   "metadata": {},
   "outputs": [],
   "source": [
    "gabe_power = df.loc[df.player_name == \"Gabe\", 'power']\n",
    "chamo_power = df.loc[df.player_name == \"Chamo\", 'power']\n",
    "kevo_power = df.loc[df.player_name == \"Kevo\", 'power']\n",
    "miggy_power = df.loc[df.player_name == \"Miggy\", 'power']\n",
    "cedar_power = df.loc[df.player_name == \"Cedar\", 'power']\n",
    "abshire_power = df.loc[df.player_name == \"Abshire\", 'power']\n",
    "miles_power = df.loc[df.player_name == \"Miles\", 'power']\n",
    "jackson_power = df.loc[df.player_name == \"Jackson\", 'power']\n",
    "tabor_power = df.loc[df.player_name == \"Tabor\", 'power']\n",
    "colton_power = df.loc[df.player_name == \"Colton\", 'power']\n",
    "carlos_power = df.loc[df.player_name == \"Carlos\", 'power']\n",
    "tbake_power = df.loc[df.player_name == \"TBake\", 'power']\n",
    "jc_power = df.loc[df.player_name == \"JC\", 'power']\n",
    "nick_power = df.loc[df.player_name == \"Nick\", 'power']"
   ]
  },
  {
   "cell_type": "code",
   "execution_count": 14,
   "metadata": {},
   "outputs": [],
   "source": [
    "gabe_exit_velocity = df.loc[df.player_name == 'Gabe', 'exit_velocity']\n",
    "chamo_exit_velocity = df.loc[df.player_name == 'Chamo', 'exit_velocity']\n",
    "kevo_exit_velocity = df.loc[df.player_name == 'Kevo', 'exit_velocity']\n",
    "miggy_exit_velocity = df.loc[df.player_name == 'Miggy', 'exit_velocity']\n",
    "cedar_exit_velocity = df.loc[df.player_name == 'Cedar', 'exit_velocity']\n",
    "abshire_exit_velocity = df.loc[df.player_name == 'Abshire', 'exit_velocity']\n",
    "miles_exit_velocity = df.loc[df.player_name == 'Miles', 'exit_velocity']\n",
    "jackson_exit_velocity = df.loc[df.player_name == 'Jackson', 'exit_velocity']\n",
    "tabor_exit_velocity = df.loc[df.player_name == 'Tabor', 'exit_velocity']\n",
    "colton_exit_velocity = df.loc[df.player_name == 'Colton', 'exit_velocity']\n",
    "carlos_exit_velocity = df.loc[df.player_name == 'Carlos', 'exit_velocity']\n",
    "tbake_exit_velocity = df.loc[df.player_name == 'TBake', 'exit_velocity']\n",
    "jc_exit_velocity = df.loc[df.player_name == 'JC', 'exit_velocity']\n",
    "nick_exit_velocity = df.loc[df.player_name == 'Nick', 'exit_velocity']"
   ]
  },
  {
   "cell_type": "code",
   "execution_count": 15,
   "metadata": {},
   "outputs": [],
   "source": [
    "gabe_launch_angle = df.loc[df.player_name == 'Gabe', 'launch_angle']\n",
    "chamo_launch_angle = df.loc[df.player_name == 'Chamo', 'launch_angle']\n",
    "kevo_launch_angle = df.loc[df.player_name == 'Kevo', 'launch_angle']\n",
    "miggy_launch_angle = df.loc[df.player_name == 'Miggy', 'launch_angle']\n",
    "cedar_launch_angle = df.loc[df.player_name == 'Cedar', 'launch_angle']\n",
    "abshire_launch_angle = df.loc[df.player_name == 'Abshire', 'launch_angle']\n",
    "miles_launch_angle = df.loc[df.player_name == 'Miles', 'launch_angle']\n",
    "jackson_launch_angle = df.loc[df.player_name == 'Jackson', 'launch_angle']\n",
    "tabor_launch_angle = df.loc[df.player_name == 'Tabor', 'launch_angle']\n",
    "colton_launch_angle = df.loc[df.player_name == 'Colton', 'launch_angle']\n",
    "carlos_launch_angle = df.loc[df.player_name == 'Carlos', 'launch_angle']\n",
    "tbake_launch_angle = df.loc[df.player_name == 'TBake', 'launch_angle']\n",
    "jc_launch_angle = df.loc[df.player_name == 'JC', 'launch_angle']\n",
    "nick_launch_angle = df.loc[df.player_name == 'Nick', 'launch_angle']"
   ]
  },
  {
   "cell_type": "code",
   "execution_count": 16,
   "metadata": {},
   "outputs": [],
   "source": [
    "gabe_exit_direction = df.loc[df.player_name == 'Gabe', 'exit_direction']\n",
    "chamo_exit_direction = df.loc[df.player_name == 'Chamo', 'exit_direction']\n",
    "kevo_exit_direction = df.loc[df.player_name == 'Kevo', 'exit_direction']\n",
    "miggy_exit_direction = df.loc[df.player_name == 'Miggy', 'exit_direction']\n",
    "cedar_exit_direction = df.loc[df.player_name == 'Cedar', 'exit_direction']\n",
    "abshire_exit_direction = df.loc[df.player_name == 'Abshire', 'exit_direction']\n",
    "miles_exit_direction = df.loc[df.player_name == 'Miles', 'exit_direction']\n",
    "jackson_exit_direction = df.loc[df.player_name == 'Jackson', 'exit_direction']\n",
    "tabor_exit_direction = df.loc[df.player_name == 'Tabor', 'exit_direction']\n",
    "colton_exit_direction = df.loc[df.player_name == 'Colton', 'exit_direction']\n",
    "carlos_exit_direction = df.loc[df.player_name == 'Carlos', 'exit_direction']\n",
    "tbake_exit_direction = df.loc[df.player_name == 'TBake', 'exit_direction']\n",
    "jc_exit_direction = df.loc[df.player_name == 'JC', 'exit_direction']\n",
    "nick_exit_direction = df.loc[df.player_name == 'Nick', 'exit_direction']"
   ]
  },
  {
   "cell_type": "code",
   "execution_count": 17,
   "metadata": {},
   "outputs": [],
   "source": [
    "gabe_distance = df.loc[df.player_name == 'Gabe', 'distance']\n",
    "chamo_distance = df.loc[df.player_name == 'Chamo', 'distance']\n",
    "kevo_distance = df.loc[df.player_name == 'Kevo', 'distance']\n",
    "miggy_distance = df.loc[df.player_name == 'Miggy', 'distance']\n",
    "cedar_distance = df.loc[df.player_name == 'Cedar', 'distance']\n",
    "abshire_distance = df.loc[df.player_name == 'Abshire', 'distance']\n",
    "miles_distance = df.loc[df.player_name == 'Miles', 'distance']\n",
    "jackson_distance = df.loc[df.player_name == 'Jackson', 'distance']\n",
    "tabor_distance = df.loc[df.player_name == 'Tabor', 'distance']\n",
    "colton_distance = df.loc[df.player_name == 'Colton', 'distance']\n",
    "carlos_distance = df.loc[df.player_name == 'Carlos', 'distance']\n",
    "tbake_distance = df.loc[df.player_name == 'TBake', 'distance']\n",
    "jc_distance = df.loc[df.player_name == 'JC', 'distance']\n",
    "nick_distance = df.loc[df.player_name == 'Nick', 'distance']"
   ]
  },
  {
   "cell_type": "code",
   "execution_count": 23,
   "metadata": {},
   "outputs": [
    {
     "ename": "SyntaxError",
     "evalue": "unexpected EOF while parsing (<ipython-input-23-0d41847ca8ce>, line 1)",
     "output_type": "error",
     "traceback": [
      "\u001b[1;36m  File \u001b[1;32m\"<ipython-input-23-0d41847ca8ce>\"\u001b[1;36m, line \u001b[1;32m1\u001b[0m\n\u001b[1;33m    strike_zone_x = df[df.strike_zone_x == float(strike_zone_x)\u001b[0m\n\u001b[1;37m                                                               ^\u001b[0m\n\u001b[1;31mSyntaxError\u001b[0m\u001b[1;31m:\u001b[0m unexpected EOF while parsing\n"
     ]
    }
   ],
   "source": [
    "strike_zone_x = df[df.strike_zone_x == float(strike_zone_x)\n"
   ]
  },
  {
   "cell_type": "code",
   "execution_count": 19,
   "metadata": {},
   "outputs": [
    {
     "ename": "ValueError",
     "evalue": "could not convert string to float: '-'",
     "output_type": "error",
     "traceback": [
      "\u001b[1;31m---------------------------------------------------------------------------\u001b[0m",
      "\u001b[1;31mValueError\u001b[0m                                Traceback (most recent call last)",
      "\u001b[1;32m<ipython-input-19-0626b8767ba6>\u001b[0m in \u001b[0;36m<module>\u001b[1;34m\u001b[0m\n\u001b[1;32m----> 1\u001b[1;33m \u001b[0mplt\u001b[0m\u001b[1;33m.\u001b[0m\u001b[0mscatter\u001b[0m\u001b[1;33m(\u001b[0m\u001b[0mdf\u001b[0m\u001b[1;33m.\u001b[0m\u001b[0mstrike_zone_x\u001b[0m\u001b[1;33m,\u001b[0m \u001b[0mdf\u001b[0m\u001b[1;33m.\u001b[0m\u001b[0mstrike_zone_y\u001b[0m\u001b[1;33m)\u001b[0m\u001b[1;33m\u001b[0m\u001b[1;33m\u001b[0m\u001b[0m\n\u001b[0m",
      "\u001b[1;32m~\\AppData\\Roaming\\Python\\Python37\\site-packages\\matplotlib\\pyplot.py\u001b[0m in \u001b[0;36mscatter\u001b[1;34m(x, y, s, c, marker, cmap, norm, vmin, vmax, alpha, linewidths, verts, edgecolors, plotnonfinite, data, **kwargs)\u001b[0m\n\u001b[0;32m   2814\u001b[0m         \u001b[0mverts\u001b[0m\u001b[1;33m=\u001b[0m\u001b[0mverts\u001b[0m\u001b[1;33m,\u001b[0m \u001b[0medgecolors\u001b[0m\u001b[1;33m=\u001b[0m\u001b[0medgecolors\u001b[0m\u001b[1;33m,\u001b[0m\u001b[1;33m\u001b[0m\u001b[1;33m\u001b[0m\u001b[0m\n\u001b[0;32m   2815\u001b[0m         plotnonfinite=plotnonfinite, **({\"data\": data} if data is not\n\u001b[1;32m-> 2816\u001b[1;33m         None else {}), **kwargs)\n\u001b[0m\u001b[0;32m   2817\u001b[0m     \u001b[0msci\u001b[0m\u001b[1;33m(\u001b[0m\u001b[0m__ret\u001b[0m\u001b[1;33m)\u001b[0m\u001b[1;33m\u001b[0m\u001b[1;33m\u001b[0m\u001b[0m\n\u001b[0;32m   2818\u001b[0m     \u001b[1;32mreturn\u001b[0m \u001b[0m__ret\u001b[0m\u001b[1;33m\u001b[0m\u001b[1;33m\u001b[0m\u001b[0m\n",
      "\u001b[1;32m~\\AppData\\Roaming\\Python\\Python37\\site-packages\\matplotlib\\__init__.py\u001b[0m in \u001b[0;36minner\u001b[1;34m(ax, data, *args, **kwargs)\u001b[0m\n\u001b[0;32m   1563\u001b[0m     \u001b[1;32mdef\u001b[0m \u001b[0minner\u001b[0m\u001b[1;33m(\u001b[0m\u001b[0max\u001b[0m\u001b[1;33m,\u001b[0m \u001b[1;33m*\u001b[0m\u001b[0margs\u001b[0m\u001b[1;33m,\u001b[0m \u001b[0mdata\u001b[0m\u001b[1;33m=\u001b[0m\u001b[1;32mNone\u001b[0m\u001b[1;33m,\u001b[0m \u001b[1;33m**\u001b[0m\u001b[0mkwargs\u001b[0m\u001b[1;33m)\u001b[0m\u001b[1;33m:\u001b[0m\u001b[1;33m\u001b[0m\u001b[1;33m\u001b[0m\u001b[0m\n\u001b[0;32m   1564\u001b[0m         \u001b[1;32mif\u001b[0m \u001b[0mdata\u001b[0m \u001b[1;32mis\u001b[0m \u001b[1;32mNone\u001b[0m\u001b[1;33m:\u001b[0m\u001b[1;33m\u001b[0m\u001b[1;33m\u001b[0m\u001b[0m\n\u001b[1;32m-> 1565\u001b[1;33m             \u001b[1;32mreturn\u001b[0m \u001b[0mfunc\u001b[0m\u001b[1;33m(\u001b[0m\u001b[0max\u001b[0m\u001b[1;33m,\u001b[0m \u001b[1;33m*\u001b[0m\u001b[0mmap\u001b[0m\u001b[1;33m(\u001b[0m\u001b[0msanitize_sequence\u001b[0m\u001b[1;33m,\u001b[0m \u001b[0margs\u001b[0m\u001b[1;33m)\u001b[0m\u001b[1;33m,\u001b[0m \u001b[1;33m**\u001b[0m\u001b[0mkwargs\u001b[0m\u001b[1;33m)\u001b[0m\u001b[1;33m\u001b[0m\u001b[1;33m\u001b[0m\u001b[0m\n\u001b[0m\u001b[0;32m   1566\u001b[0m \u001b[1;33m\u001b[0m\u001b[0m\n\u001b[0;32m   1567\u001b[0m         \u001b[0mbound\u001b[0m \u001b[1;33m=\u001b[0m \u001b[0mnew_sig\u001b[0m\u001b[1;33m.\u001b[0m\u001b[0mbind\u001b[0m\u001b[1;33m(\u001b[0m\u001b[0max\u001b[0m\u001b[1;33m,\u001b[0m \u001b[1;33m*\u001b[0m\u001b[0margs\u001b[0m\u001b[1;33m,\u001b[0m \u001b[1;33m**\u001b[0m\u001b[0mkwargs\u001b[0m\u001b[1;33m)\u001b[0m\u001b[1;33m\u001b[0m\u001b[1;33m\u001b[0m\u001b[0m\n",
      "\u001b[1;32m~\\AppData\\Roaming\\Python\\Python37\\site-packages\\matplotlib\\cbook\\deprecation.py\u001b[0m in \u001b[0;36mwrapper\u001b[1;34m(*args, **kwargs)\u001b[0m\n\u001b[0;32m    356\u001b[0m                 \u001b[1;34mf\"%(removal)s.  If any parameter follows {name!r}, they \"\u001b[0m\u001b[1;33m\u001b[0m\u001b[1;33m\u001b[0m\u001b[0m\n\u001b[0;32m    357\u001b[0m                 f\"should be pass as keyword, not positionally.\")\n\u001b[1;32m--> 358\u001b[1;33m         \u001b[1;32mreturn\u001b[0m \u001b[0mfunc\u001b[0m\u001b[1;33m(\u001b[0m\u001b[1;33m*\u001b[0m\u001b[0margs\u001b[0m\u001b[1;33m,\u001b[0m \u001b[1;33m**\u001b[0m\u001b[0mkwargs\u001b[0m\u001b[1;33m)\u001b[0m\u001b[1;33m\u001b[0m\u001b[1;33m\u001b[0m\u001b[0m\n\u001b[0m\u001b[0;32m    359\u001b[0m \u001b[1;33m\u001b[0m\u001b[0m\n\u001b[0;32m    360\u001b[0m     \u001b[1;32mreturn\u001b[0m \u001b[0mwrapper\u001b[0m\u001b[1;33m\u001b[0m\u001b[1;33m\u001b[0m\u001b[0m\n",
      "\u001b[1;32m~\\AppData\\Roaming\\Python\\Python37\\site-packages\\matplotlib\\axes\\_axes.py\u001b[0m in \u001b[0;36mscatter\u001b[1;34m(self, x, y, s, c, marker, cmap, norm, vmin, vmax, alpha, linewidths, verts, edgecolors, plotnonfinite, **kwargs)\u001b[0m\n\u001b[0;32m   4427\u001b[0m                 \u001b[0moffsets\u001b[0m\u001b[1;33m=\u001b[0m\u001b[0moffsets\u001b[0m\u001b[1;33m,\u001b[0m\u001b[1;33m\u001b[0m\u001b[1;33m\u001b[0m\u001b[0m\n\u001b[0;32m   4428\u001b[0m                 \u001b[0mtransOffset\u001b[0m\u001b[1;33m=\u001b[0m\u001b[0mkwargs\u001b[0m\u001b[1;33m.\u001b[0m\u001b[0mpop\u001b[0m\u001b[1;33m(\u001b[0m\u001b[1;34m'transform'\u001b[0m\u001b[1;33m,\u001b[0m \u001b[0mself\u001b[0m\u001b[1;33m.\u001b[0m\u001b[0mtransData\u001b[0m\u001b[1;33m)\u001b[0m\u001b[1;33m,\u001b[0m\u001b[1;33m\u001b[0m\u001b[1;33m\u001b[0m\u001b[0m\n\u001b[1;32m-> 4429\u001b[1;33m                 \u001b[0malpha\u001b[0m\u001b[1;33m=\u001b[0m\u001b[0malpha\u001b[0m\u001b[1;33m\u001b[0m\u001b[1;33m\u001b[0m\u001b[0m\n\u001b[0m\u001b[0;32m   4430\u001b[0m                 )\n\u001b[0;32m   4431\u001b[0m         \u001b[0mcollection\u001b[0m\u001b[1;33m.\u001b[0m\u001b[0mset_transform\u001b[0m\u001b[1;33m(\u001b[0m\u001b[0mmtransforms\u001b[0m\u001b[1;33m.\u001b[0m\u001b[0mIdentityTransform\u001b[0m\u001b[1;33m(\u001b[0m\u001b[1;33m)\u001b[0m\u001b[1;33m)\u001b[0m\u001b[1;33m\u001b[0m\u001b[1;33m\u001b[0m\u001b[0m\n",
      "\u001b[1;32m~\\AppData\\Roaming\\Python\\Python37\\site-packages\\matplotlib\\collections.py\u001b[0m in \u001b[0;36m__init__\u001b[1;34m(self, paths, sizes, **kwargs)\u001b[0m\n\u001b[0;32m    910\u001b[0m         \"\"\"\n\u001b[0;32m    911\u001b[0m \u001b[1;33m\u001b[0m\u001b[0m\n\u001b[1;32m--> 912\u001b[1;33m         \u001b[0mCollection\u001b[0m\u001b[1;33m.\u001b[0m\u001b[0m__init__\u001b[0m\u001b[1;33m(\u001b[0m\u001b[0mself\u001b[0m\u001b[1;33m,\u001b[0m \u001b[1;33m**\u001b[0m\u001b[0mkwargs\u001b[0m\u001b[1;33m)\u001b[0m\u001b[1;33m\u001b[0m\u001b[1;33m\u001b[0m\u001b[0m\n\u001b[0m\u001b[0;32m    913\u001b[0m         \u001b[0mself\u001b[0m\u001b[1;33m.\u001b[0m\u001b[0mset_paths\u001b[0m\u001b[1;33m(\u001b[0m\u001b[0mpaths\u001b[0m\u001b[1;33m)\u001b[0m\u001b[1;33m\u001b[0m\u001b[1;33m\u001b[0m\u001b[0m\n\u001b[0;32m    914\u001b[0m         \u001b[0mself\u001b[0m\u001b[1;33m.\u001b[0m\u001b[0mset_sizes\u001b[0m\u001b[1;33m(\u001b[0m\u001b[0msizes\u001b[0m\u001b[1;33m)\u001b[0m\u001b[1;33m\u001b[0m\u001b[1;33m\u001b[0m\u001b[0m\n",
      "\u001b[1;32m~\\AppData\\Roaming\\Python\\Python37\\site-packages\\matplotlib\\collections.py\u001b[0m in \u001b[0;36m__init__\u001b[1;34m(self, edgecolors, facecolors, linewidths, linestyles, capstyle, joinstyle, antialiaseds, offsets, transOffset, norm, cmap, pickradius, hatch, urls, offset_position, zorder, **kwargs)\u001b[0m\n\u001b[0;32m    151\u001b[0m         \u001b[0mself\u001b[0m\u001b[1;33m.\u001b[0m\u001b[0m_uniform_offsets\u001b[0m \u001b[1;33m=\u001b[0m \u001b[1;32mNone\u001b[0m\u001b[1;33m\u001b[0m\u001b[1;33m\u001b[0m\u001b[0m\n\u001b[0;32m    152\u001b[0m         \u001b[1;32mif\u001b[0m \u001b[0moffsets\u001b[0m \u001b[1;32mis\u001b[0m \u001b[1;32mnot\u001b[0m \u001b[1;32mNone\u001b[0m\u001b[1;33m:\u001b[0m\u001b[1;33m\u001b[0m\u001b[1;33m\u001b[0m\u001b[0m\n\u001b[1;32m--> 153\u001b[1;33m             \u001b[0moffsets\u001b[0m \u001b[1;33m=\u001b[0m \u001b[0mnp\u001b[0m\u001b[1;33m.\u001b[0m\u001b[0masanyarray\u001b[0m\u001b[1;33m(\u001b[0m\u001b[0moffsets\u001b[0m\u001b[1;33m,\u001b[0m \u001b[0mfloat\u001b[0m\u001b[1;33m)\u001b[0m\u001b[1;33m\u001b[0m\u001b[1;33m\u001b[0m\u001b[0m\n\u001b[0m\u001b[0;32m    154\u001b[0m             \u001b[1;31m# Broadcast (2,) -> (1, 2) but nothing else.\u001b[0m\u001b[1;33m\u001b[0m\u001b[1;33m\u001b[0m\u001b[1;33m\u001b[0m\u001b[0m\n\u001b[0;32m    155\u001b[0m             \u001b[1;32mif\u001b[0m \u001b[0moffsets\u001b[0m\u001b[1;33m.\u001b[0m\u001b[0mshape\u001b[0m \u001b[1;33m==\u001b[0m \u001b[1;33m(\u001b[0m\u001b[1;36m2\u001b[0m\u001b[1;33m,\u001b[0m\u001b[1;33m)\u001b[0m\u001b[1;33m:\u001b[0m\u001b[1;33m\u001b[0m\u001b[1;33m\u001b[0m\u001b[0m\n",
      "\u001b[1;32m~\\AppData\\Roaming\\Python\\Python37\\site-packages\\numpy\\core\\_asarray.py\u001b[0m in \u001b[0;36masanyarray\u001b[1;34m(a, dtype, order)\u001b[0m\n\u001b[0;32m    136\u001b[0m \u001b[1;33m\u001b[0m\u001b[0m\n\u001b[0;32m    137\u001b[0m     \"\"\"\n\u001b[1;32m--> 138\u001b[1;33m     \u001b[1;32mreturn\u001b[0m \u001b[0marray\u001b[0m\u001b[1;33m(\u001b[0m\u001b[0ma\u001b[0m\u001b[1;33m,\u001b[0m \u001b[0mdtype\u001b[0m\u001b[1;33m,\u001b[0m \u001b[0mcopy\u001b[0m\u001b[1;33m=\u001b[0m\u001b[1;32mFalse\u001b[0m\u001b[1;33m,\u001b[0m \u001b[0morder\u001b[0m\u001b[1;33m=\u001b[0m\u001b[0morder\u001b[0m\u001b[1;33m,\u001b[0m \u001b[0msubok\u001b[0m\u001b[1;33m=\u001b[0m\u001b[1;32mTrue\u001b[0m\u001b[1;33m)\u001b[0m\u001b[1;33m\u001b[0m\u001b[1;33m\u001b[0m\u001b[0m\n\u001b[0m\u001b[0;32m    139\u001b[0m \u001b[1;33m\u001b[0m\u001b[0m\n\u001b[0;32m    140\u001b[0m \u001b[1;33m\u001b[0m\u001b[0m\n",
      "\u001b[1;31mValueError\u001b[0m: could not convert string to float: '-'"
     ]
    },
    {
     "data": {
      "image/png": "[encoded data removed]",
      "text/plain": [
       "<Figure size 432x288 with 1 Axes>"
      ]
     },
     "metadata": {
      "needs_background": "light"
     },
     "output_type": "display_data"
    }
   ],
   "source": [
    "plt.scatter(df.strike_zone_x, df.strike_zone_y)"
   ]
  },
  {
   "cell_type": "code",
   "execution_count": null,
   "metadata": {},
   "outputs": [],
   "source": []
  },
  {
   "cell_type": "code",
   "execution_count": null,
   "metadata": {},
   "outputs": [],
   "source": []
  }
 ],
 "metadata": {
  "kernelspec": {
   "display_name": "Python 3",
   "language": "python",
   "name": "python3"
  },
  "language_info": {
   "codemirror_mode": {
    "name": "ipython",
    "version": 3
   },
   "file_extension": ".py",
   "mimetype": "text/x-python",
   "name": "python",
   "nbconvert_exporter": "python",
   "pygments_lexer": "ipython3",
   "version": "3.7.6"
  }
 },
 "nbformat": 4,
 "nbformat_minor": 4
}
